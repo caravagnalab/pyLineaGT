{
 "cells": [
  {
   "cell_type": "code",
   "execution_count": 1,
   "metadata": {},
   "outputs": [
    {
     "name": "stderr",
     "output_type": "stream",
     "text": [
      "/Users/elenab/Library/r-miniconda-arm64/envs/lineagt-env/lib/python3.8/site-packages/tqdm/auto.py:22: TqdmWarning: IProgress not found. Please update jupyter and ipywidgets. See https://ipywidgets.readthedocs.io/en/stable/user_install.html\n",
      "  from .autonotebook import tqdm as notebook_tqdm\n"
     ]
    }
   ],
   "source": [
    "import explogreg\n",
    "import torch\n",
    "from pyro.infer import MCMC, NUTS\n",
    "import pyro.optim as optim\n",
    "\n",
    "%load_ext autoreload\n",
    "%autoreload 2"
   ]
  },
  {
   "cell_type": "code",
   "execution_count": 2,
   "metadata": {},
   "outputs": [],
   "source": [
    "torch.manual_seed(0)\n",
    "L = 3\n",
    "T = 5 # 6  # Number of time points\n",
    "x = torch.tensor([0, 56,84,112,168,280]).unsqueeze(1)  # Time variable\n",
    "y = torch.tensor([[0, 138, 188, 565, 572, 539], [0, 238, 548, 793, 649, 629], [0, 28, 128, 283, 405, 486]]).T  # Simulated binary outcomes (logistic regression)"
   ]
  },
  {
   "cell_type": "code",
   "execution_count": 3,
   "metadata": {},
   "outputs": [
    {
     "name": "stderr",
     "output_type": "stream",
     "text": [
      "Sample [1]: 100%|██████████| 51/51 [00:02, 17.76it/s, step size=1.25e-01, acc. prob=0.011]\n",
      "Sample [2]: 100%|██████████| 51/51 [00:02, 17.76it/s, step size=3.12e-02, acc. prob=0.015]\n"
     ]
    }
   ],
   "source": [
    "obj = explogreg.Regression(x, y)\n",
    "posterior_samples_log = obj.train_mcmc(regr=\"log\", warmup_steps=1, num_samples=50, num_chains=2)"
   ]
  },
  {
   "cell_type": "code",
   "execution_count": 4,
   "metadata": {},
   "outputs": [
    {
     "data": {
      "text/plain": [
       "<pyro.infer.mcmc.api.MCMC at 0x106462490>"
      ]
     },
     "execution_count": 4,
     "metadata": {},
     "output_type": "execute_result"
    }
   ],
   "source": [
    "obj.mcmc"
   ]
  },
  {
   "cell_type": "code",
   "execution_count": 5,
   "metadata": {},
   "outputs": [
    {
     "name": "stdout",
     "output_type": "stream",
     "text": [
      "carr_capac\n",
      "(100, 3)\n",
      "fitness\n",
      "(100, 3)\n",
      "init_time\n",
      "(100, 3)\n",
      "sigma\n",
      "(100, 6, 3)\n"
     ]
    }
   ],
   "source": [
    "# Get posterior samples\n",
    "for k, v in posterior_samples_log.items():\n",
    "    print(k)\n",
    "    print(v.shape)"
   ]
  },
  {
   "cell_type": "code",
   "execution_count": 6,
   "metadata": {},
   "outputs": [
    {
     "name": "stdout",
     "output_type": "stream",
     "text": [
      "\n",
      "                   mean       std    median      5.0%     95.0%     n_eff     r_hat\n",
      "carr_capac[0]    877.52    201.55    681.38    676.10   1078.80       nan     80.14\n",
      "carr_capac[1]   1154.56     97.44   1068.28   1049.77   1251.66       nan     41.80\n",
      "carr_capac[2]    454.08     46.46    408.74    407.83    502.17       nan     49.23\n",
      "   fitness[0]      0.23      0.18      0.12      0.05      0.39       nan      3.71\n",
      "   fitness[1]      0.04      0.06      0.04      0.02      0.06       nan      1.02\n",
      "   fitness[2]      1.73      1.72      0.15      0.01      3.45       nan     46.79\n",
      " init_time[0]     39.78     10.35     29.99     29.09     50.15       nan     38.20\n",
      " init_time[1]     35.95     16.35     20.26     19.31     52.26       nan     89.65\n",
      " init_time[2]     31.41     23.21      8.46      8.17     54.56       nan    129.20\n",
      "   sigma[0,0]      0.17      0.04      0.16      0.14      0.22       nan      8.24\n",
      "   sigma[0,1]      0.89      0.34      0.57      0.57      1.31       nan      7.69\n",
      "   sigma[0,2]      2.51      0.91      2.02      1.59      3.55       nan     12.84\n",
      "   sigma[1,0]      1.77      0.47      1.48      1.30      2.34       nan      9.48\n",
      "   sigma[1,1]      3.05      2.90      0.23      0.16      6.29       nan     23.83\n",
      "   sigma[1,2]      1.40      0.56      1.59      0.82      2.03       nan      5.50\n",
      "   sigma[2,0]      2.36      2.02      0.36      0.36      4.54       nan     26.38\n",
      "   sigma[2,1]      2.91      2.65      0.27      0.27      5.71       nan     38.93\n",
      "   sigma[2,2]      3.81      1.72      2.14      2.14      6.02       nan     10.45\n",
      "   sigma[3,0]      0.81      0.10      0.78      0.67      0.90       nan      7.26\n",
      "   sigma[3,1]      3.30      1.15      2.17      2.17      4.54       nan     14.98\n",
      "   sigma[3,2]      2.38      0.38      2.34      2.00      2.89       nan      5.61\n",
      "   sigma[4,0]      0.89      0.67      0.23      0.21      1.57       nan     19.64\n",
      "   sigma[4,1]      0.25      0.05      0.21      0.19      0.31       nan     18.44\n",
      "   sigma[4,2]      1.37      0.47      1.41      0.88      1.86       nan      7.01\n",
      "   sigma[5,0]      1.99      1.92      0.13      0.08      4.03       nan     39.90\n",
      "   sigma[5,1]      3.75      2.68      1.20      1.08      6.50       nan     22.33\n",
      "   sigma[5,2]      2.98      2.41      0.61      0.59      5.66       nan     18.98\n",
      "\n",
      "Number of divergences: 12\n"
     ]
    },
    {
     "name": "stderr",
     "output_type": "stream",
     "text": [
      "/Users/elenab/Library/r-miniconda-arm64/envs/lineagt-env/lib/python3.8/site-packages/pyro/infer/mcmc/util.py:498: UserWarning: Traceback (most recent call last):\n",
      "  File \"/Users/elenab/Library/r-miniconda-arm64/envs/lineagt-env/lib/python3.8/site-packages/pyro/infer/mcmc/util.py\", line 496, in wrapped\n",
      "    val = fn(sample, *args, **kwargs)\n",
      "  File \"/Users/elenab/Library/r-miniconda-arm64/envs/lineagt-env/lib/python3.8/site-packages/pyro/ops/stats.py\", line 189, in effective_sample_size\n",
      "    gamma_k_c = autocovariance(input, dim=0)  # N x C x sample_shape\n",
      "  File \"/Users/elenab/Library/r-miniconda-arm64/envs/lineagt-env/lib/python3.8/site-packages/pyro/ops/stats.py\", line 137, in autocovariance\n",
      "    return autocorrelation(input, dim) * input.var(dim, unbiased=False, keepdim=True)\n",
      "  File \"/Users/elenab/Library/r-miniconda-arm64/envs/lineagt-env/lib/python3.8/site-packages/pyro/ops/stats.py\", line 97, in autocorrelation\n",
      "    raise NotImplementedError(\n",
      "NotImplementedError: For CPU tensor, this method is only supported with MKL installed.\n",
      "\n",
      "  warnings.warn(tb.format_exc())\n"
     ]
    }
   ],
   "source": [
    "obj.mcmc.summary()"
   ]
  },
  {
   "cell_type": "code",
   "execution_count": 7,
   "metadata": {},
   "outputs": [
    {
     "data": {
      "text/plain": [
       "{'carr_capac': array([ 877.5165 , 1154.5615 ,  454.07727], dtype=float32),\n",
       " 'fitness': array([0.23098126, 0.03577183, 1.7335985 ], dtype=float32),\n",
       " 'init_time': array([39.77603 , 35.95169 , 31.414322], dtype=float32),\n",
       " 'sigma': array([[0.17239834, 0.89194834, 2.5050144 ],\n",
       "        [1.7665707 , 3.04645   , 1.401306  ],\n",
       "        [2.356453  , 2.9081573 , 3.8081367 ],\n",
       "        [0.80735135, 3.3000696 , 2.3798673 ],\n",
       "        [0.8883112 , 0.2529179 , 1.3681662 ],\n",
       "        [1.9887592 , 3.7478476 , 2.9766395 ]], dtype=float32),\n",
       " 'parent_rate': None}"
      ]
     },
     "execution_count": 7,
     "metadata": {},
     "output_type": "execute_result"
    }
   ],
   "source": [
    "obj.get_learned_params()"
   ]
  },
  {
   "cell_type": "code",
   "execution_count": 8,
   "metadata": {},
   "outputs": [
    {
     "data": {
      "text/plain": [
       "array([[-3.3601236e-02, -9.6417151e-02, -2.0500633e-01],\n",
       "       [-2.8373461e+00, -5.1120772e+00, -2.1907616e+02],\n",
       "       [-2.2550240e+01, -8.9787884e+00, -3.7680463e+02],\n",
       "       [-2.4010324e+01, -9.3860683e+00, -3.0742023e+02],\n",
       "       [-5.0493046e+01, -5.3001566e+00, -1.5114648e+02],\n",
       "       [-1.1582544e+02, -1.1265973e+01,  1.8021513e+02]], dtype=float32)"
      ]
     },
     "execution_count": 8,
     "metadata": {},
     "output_type": "execute_result"
    }
   ],
   "source": [
    "obj.compute_log_likelihood()"
   ]
  },
  {
   "cell_type": "code",
   "execution_count": 20,
   "metadata": {},
   "outputs": [
    {
     "name": "stdout",
     "output_type": "stream",
     "text": [
      "x_test: torch.Size([50])\n",
      "post_fitness: (100, 1, 3)\n",
      "post_carr: (100, 1, 3)\n",
      "args: (100, 50, 3)\n",
      "y_preds: (100, 50, 3)\n"
     ]
    },
    {
     "name": "stderr",
     "output_type": "stream",
     "text": [
      "<ipython-input-20-df7cb992edeb>:12: RuntimeWarning: overflow encountered in exp\n",
      "  y_preds = post_carr / ( 1 + (post_carr - 1) * np.exp(args) )\n",
      "<ipython-input-20-df7cb992edeb>:12: RuntimeWarning: overflow encountered in multiply\n",
      "  y_preds = post_carr / ( 1 + (post_carr - 1) * np.exp(args) )\n"
     ]
    }
   ],
   "source": [
    "import matplotlib.pyplot as plt\n",
    "import numpy as np\n",
    "\n",
    "n_iters = posterior_samples_log[\"fitness\"].shape[0]\n",
    "\n",
    "# Generate new x values (e.g., test points for prediction)\n",
    "x_test = torch.linspace(0, 300, 50)\n",
    "post_fitness = posterior_samples_log[\"fitness\"][:, None]\n",
    "post_carr = posterior_samples_log[\"carr_capac\"][:, None]\n",
    "\n",
    "args = - post_fitness * x_test.unsqueeze(1).numpy()\n",
    "y_preds = post_carr / ( 1 + (post_carr - 1) * np.exp(args) )\n",
    "\n",
    "print(\"x_test: {}\".format(x_test.shape))\n",
    "print(\"post_fitness: {}\".format(post_fitness.shape))\n",
    "print(\"post_carr: {}\".format(post_carr.shape))\n",
    "print(\"args: {}\".format(args.shape))\n",
    "print(\"y_preds: {}\".format(y_preds.shape))"
   ]
  },
  {
   "cell_type": "code",
   "execution_count": 22,
   "metadata": {},
   "outputs": [
    {
     "name": "stdout",
     "output_type": "stream",
     "text": [
      "y_mean: (50, 3)\n",
      "y_lower: (50, 3)\n",
      "y_upper: (50, 3)\n"
     ]
    }
   ],
   "source": [
    "# Compute predictions for each posterior sample\n",
    "y_mean = y_preds.mean(axis=0)  # Mean prediction\n",
    "y_lower = np.quantile(y_preds, 0.05, axis=0)  # 2.5% quantile (\n",
    "y_upper = np.quantile(y_preds, 0.95, axis=0)  # 97.5% quantile (upper bound)\n",
    "\n",
    "print(\"y_mean: {}\".format(y_mean.shape))\n",
    "print(\"y_lower: {}\".format(y_lower.shape))\n",
    "print(\"y_upper: {}\".format(y_upper.shape))"
   ]
  },
  {
   "cell_type": "code",
   "execution_count": 11,
   "metadata": {},
   "outputs": [
    {
     "data": {
      "image/png": "[encoded data removed]",
      "text/plain": [
       "<Figure size 576x360 with 1 Axes>"
      ]
     },
     "metadata": {
      "needs_background": "light"
     },
     "output_type": "display_data"
    },
    {
     "data": {
      "image/png": "[encoded data removed]",
      "text/plain": [
       "<Figure size 576x360 with 1 Axes>"
      ]
     },
     "metadata": {
      "needs_background": "light"
     },
     "output_type": "display_data"
    },
    {
     "data": {
      "image/png": "[encoded data removed]",
      "text/plain": [
       "<Figure size 576x360 with 1 Axes>"
      ]
     },
     "metadata": {
      "needs_background": "light"
     },
     "output_type": "display_data"
    }
   ],
   "source": [
    "# Plot results\n",
    "\n",
    "for i in range(L):\n",
    "    plt.figure(figsize=(8, 5))\n",
    "    plt.scatter(x.squeeze(), y[:,i], color=\"black\", label=\"Observed Data\")  # Scatter plot of actual data\n",
    "    plt.plot(x_test, y_mean[:,i], label=\"Mean Prediction\", color=\"blue\")\n",
    "    plt.fill_between(x_test, y_lower[:,i], y_upper[:,i], color=\"blue\", alpha=0.3, label=\"95% Credible Interval\")\n",
    "    plt.xlabel(\"Time\")\n",
    "    plt.ylabel(\"Probability\")\n",
    "    plt.legend()\n",
    "    plt.title(\"Bayesian Logistic Regression with 95% Credible Intervals\")\n",
    "    plt.show()"
   ]
  },
  {
   "cell_type": "code",
   "execution_count": 12,
   "metadata": {},
   "outputs": [
    {
     "data": {
      "text/plain": [
       "(100, 3)"
      ]
     },
     "execution_count": 12,
     "metadata": {},
     "output_type": "execute_result"
    }
   ],
   "source": [
    "posterior_samples_log[\"fitness\"].shape"
   ]
  },
  {
   "cell_type": "code",
   "execution_count": 13,
   "metadata": {},
   "outputs": [
    {
     "data": {
      "text/plain": [
       "{'carr_capac': array([ 877.5165 , 1154.5615 ,  454.07727], dtype=float32),\n",
       " 'fitness': array([0.23098126, 0.03577183, 1.7335985 ], dtype=float32),\n",
       " 'init_time': array([39.77603 , 35.95169 , 31.414322], dtype=float32),\n",
       " 'sigma': array([[0.17239834, 0.89194834, 2.5050144 ],\n",
       "        [1.7665707 , 3.04645   , 1.401306  ],\n",
       "        [2.356453  , 2.9081573 , 3.8081367 ],\n",
       "        [0.80735135, 3.3000696 , 2.3798673 ],\n",
       "        [0.8883112 , 0.2529179 , 1.3681662 ],\n",
       "        [1.9887592 , 3.7478476 , 2.9766395 ]], dtype=float32),\n",
       " 'parent_rate': None}"
      ]
     },
     "execution_count": 13,
     "metadata": {},
     "output_type": "execute_result"
    }
   ],
   "source": [
    "pars = obj.get_learned_params()\n",
    "pars"
   ]
  },
  {
   "cell_type": "code",
   "execution_count": 14,
   "metadata": {},
   "outputs": [
    {
     "name": "stdout",
     "output_type": "stream",
     "text": [
      "carr_capac\n",
      "(100, 3)\n",
      "fitness\n",
      "(100, 3)\n",
      "init_time\n",
      "(100, 3)\n",
      "sigma\n",
      "(100, 6, 3)\n"
     ]
    }
   ],
   "source": [
    "for k, v in posterior_samples_log.items():\n",
    "    print(k)\n",
    "    print(v.shape)"
   ]
  },
  {
   "cell_type": "code",
   "execution_count": 15,
   "metadata": {},
   "outputs": [
    {
     "data": {
      "text/plain": [
       "{'carr_capac': array([[1059.713  , 1245.4672 ,  408.74307],\n",
       "        [1059.713  , 1245.4672 ,  408.74307],\n",
       "        [1078.797  , 1251.656  ,  407.8334 ],\n",
       "        [1078.797  , 1251.656  ,  407.8334 ],\n",
       "        [1078.797  , 1251.656  ,  407.8334 ],\n",
       "        [1078.797  , 1251.656  ,  407.8334 ],\n",
       "        [1078.797  , 1251.656  ,  407.8334 ],\n",
       "        [1078.797  , 1251.656  ,  407.8334 ],\n",
       "        [1078.797  , 1251.656  ,  407.8334 ],\n",
       "        [1078.797  , 1251.656  ,  407.8334 ],\n",
       "        [1078.797  , 1251.656  ,  407.8334 ],\n",
       "        [1078.797  , 1251.656  ,  407.8334 ],\n",
       "        [1078.797  , 1251.656  ,  407.8334 ],\n",
       "        [1078.797  , 1251.656  ,  407.8334 ],\n",
       "        [1078.797  , 1251.656  ,  407.8334 ],\n",
       "        [1078.797  , 1251.656  ,  407.8334 ],\n",
       "        [1078.797  , 1251.656  ,  407.8334 ],\n",
       "        [1078.797  , 1251.656  ,  407.8334 ],\n",
       "        [1078.797  , 1251.656  ,  407.8334 ],\n",
       "        [1078.797  , 1251.656  ,  407.8334 ],\n",
       "        [1078.797  , 1251.656  ,  407.8334 ],\n",
       "        [1078.797  , 1251.656  ,  407.8334 ],\n",
       "        [1078.797  , 1251.656  ,  407.8334 ],\n",
       "        [1078.797  , 1251.656  ,  407.8334 ],\n",
       "        [1078.797  , 1251.656  ,  407.8334 ],\n",
       "        [1078.797  , 1251.656  ,  407.8334 ],\n",
       "        [1078.797  , 1251.656  ,  407.8334 ],\n",
       "        [1078.797  , 1251.656  ,  407.8334 ],\n",
       "        [1078.797  , 1251.656  ,  407.8334 ],\n",
       "        [1078.797  , 1251.656  ,  407.8334 ],\n",
       "        [1078.797  , 1251.656  ,  407.8334 ],\n",
       "        [1078.797  , 1251.656  ,  407.8334 ],\n",
       "        [1078.797  , 1251.656  ,  407.8334 ],\n",
       "        [1078.797  , 1251.656  ,  407.8334 ],\n",
       "        [1078.797  , 1251.656  ,  407.8334 ],\n",
       "        [1078.797  , 1251.656  ,  407.8334 ],\n",
       "        [1078.797  , 1251.656  ,  407.8334 ],\n",
       "        [1078.797  , 1251.656  ,  407.8334 ],\n",
       "        [1078.797  , 1251.656  ,  407.8334 ],\n",
       "        [1078.797  , 1251.656  ,  407.8334 ],\n",
       "        [1078.797  , 1251.656  ,  407.8334 ],\n",
       "        [1078.797  , 1251.656  ,  407.8334 ],\n",
       "        [1078.797  , 1251.656  ,  407.8334 ],\n",
       "        [1078.797  , 1251.656  ,  407.8334 ],\n",
       "        [1078.797  , 1251.656  ,  407.8334 ],\n",
       "        [1078.797  , 1251.656  ,  407.8334 ],\n",
       "        [1078.797  , 1251.656  ,  407.8334 ],\n",
       "        [1078.797  , 1251.656  ,  407.8334 ],\n",
       "        [1078.797  , 1251.656  ,  407.8334 ],\n",
       "        [1078.797  , 1251.656  ,  407.8334 ],\n",
       "        [ 681.3832 , 1067.1063 ,  495.82352],\n",
       "        [ 678.53394, 1066.5905 ,  500.20816],\n",
       "        [ 676.81726, 1068.2776 ,  499.9303 ],\n",
       "        [ 676.81726, 1068.2776 ,  499.9303 ],\n",
       "        [ 676.81726, 1068.2776 ,  499.9303 ],\n",
       "        [ 676.7087 , 1064.0381 ,  498.0114 ],\n",
       "        [ 676.7087 , 1064.0381 ,  498.0114 ],\n",
       "        [ 676.7087 , 1064.0381 ,  498.0114 ],\n",
       "        [ 676.7087 , 1064.0381 ,  498.0114 ],\n",
       "        [ 676.7087 , 1064.0381 ,  498.0114 ],\n",
       "        [ 676.7087 , 1064.0381 ,  498.0114 ],\n",
       "        [ 676.7087 , 1064.0381 ,  498.0114 ],\n",
       "        [ 676.7087 , 1064.0381 ,  498.0114 ],\n",
       "        [ 676.7087 , 1064.0381 ,  498.0114 ],\n",
       "        [ 676.7087 , 1064.0381 ,  498.0114 ],\n",
       "        [ 676.7087 , 1064.0381 ,  498.0114 ],\n",
       "        [ 676.7087 , 1064.0381 ,  498.0114 ],\n",
       "        [ 680.38855, 1060.7767 ,  500.4084 ],\n",
       "        [ 680.38855, 1060.7767 ,  500.4084 ],\n",
       "        [ 675.98157, 1058.9795 ,  501.4432 ],\n",
       "        [ 675.98157, 1058.9795 ,  501.4432 ],\n",
       "        [ 675.98157, 1058.9795 ,  501.4432 ],\n",
       "        [ 675.98157, 1058.9795 ,  501.4432 ],\n",
       "        [ 677.8044 , 1055.8362 ,  502.17145],\n",
       "        [ 677.8044 , 1055.8362 ,  502.17145],\n",
       "        [ 677.8044 , 1055.8362 ,  502.17145],\n",
       "        [ 677.8044 , 1055.8362 ,  502.17145],\n",
       "        [ 677.8044 , 1055.8362 ,  502.17145],\n",
       "        [ 677.8044 , 1055.8362 ,  502.17145],\n",
       "        [ 677.8044 , 1055.8362 ,  502.17145],\n",
       "        [ 677.8044 , 1055.8362 ,  502.17145],\n",
       "        [ 677.8044 , 1055.8362 ,  502.17145],\n",
       "        [ 677.8044 , 1055.8362 ,  502.17145],\n",
       "        [ 677.8044 , 1055.8362 ,  502.17145],\n",
       "        [ 677.8044 , 1055.8362 ,  502.17145],\n",
       "        [ 677.8044 , 1055.8362 ,  502.17145],\n",
       "        [ 677.8044 , 1055.8362 ,  502.17145],\n",
       "        [ 681.35657, 1052.6373 ,  502.80746],\n",
       "        [ 676.10486, 1049.7675 ,  500.8362 ],\n",
       "        [ 676.10486, 1049.7675 ,  500.8362 ],\n",
       "        [ 676.10486, 1049.7675 ,  500.8362 ],\n",
       "        [ 676.10486, 1049.7675 ,  500.8362 ],\n",
       "        [ 676.10486, 1049.7675 ,  500.8362 ],\n",
       "        [ 676.10486, 1049.7675 ,  500.8362 ],\n",
       "        [ 676.10486, 1049.7675 ,  500.8362 ],\n",
       "        [ 676.10486, 1049.7675 ,  500.8362 ],\n",
       "        [ 676.10486, 1049.7675 ,  500.8362 ],\n",
       "        [ 672.9414 , 1046.3319 ,  498.31757],\n",
       "        [ 672.9414 , 1046.3319 ,  498.31757],\n",
       "        [ 672.9414 , 1046.3319 ,  498.31757]], dtype=float32),\n",
       " 'fitness': array([[ 0.7022245 , -0.3871472 ,  3.165815  ],\n",
       "        [ 0.7022245 , -0.3871472 ,  3.165815  ],\n",
       "        [ 0.38762283,  0.06400752,  3.451164  ],\n",
       "        [ 0.38762283,  0.06400752,  3.451164  ],\n",
       "        [ 0.38762283,  0.06400752,  3.451164  ],\n",
       "        [ 0.38762283,  0.06400752,  3.451164  ],\n",
       "        [ 0.38762283,  0.06400752,  3.451164  ],\n",
       "        [ 0.38762283,  0.06400752,  3.451164  ],\n",
       "        [ 0.38762283,  0.06400752,  3.451164  ],\n",
       "        [ 0.38762283,  0.06400752,  3.451164  ],\n",
       "        [ 0.38762283,  0.06400752,  3.451164  ],\n",
       "        [ 0.38762283,  0.06400752,  3.451164  ],\n",
       "        [ 0.38762283,  0.06400752,  3.451164  ],\n",
       "        [ 0.38762283,  0.06400752,  3.451164  ],\n",
       "        [ 0.38762283,  0.06400752,  3.451164  ],\n",
       "        [ 0.38762283,  0.06400752,  3.451164  ],\n",
       "        [ 0.38762283,  0.06400752,  3.451164  ],\n",
       "        [ 0.38762283,  0.06400752,  3.451164  ],\n",
       "        [ 0.38762283,  0.06400752,  3.451164  ],\n",
       "        [ 0.38762283,  0.06400752,  3.451164  ],\n",
       "        [ 0.38762283,  0.06400752,  3.451164  ],\n",
       "        [ 0.38762283,  0.06400752,  3.451164  ],\n",
       "        [ 0.38762283,  0.06400752,  3.451164  ],\n",
       "        [ 0.38762283,  0.06400752,  3.451164  ],\n",
       "        [ 0.38762283,  0.06400752,  3.451164  ],\n",
       "        [ 0.38762283,  0.06400752,  3.451164  ],\n",
       "        [ 0.38762283,  0.06400752,  3.451164  ],\n",
       "        [ 0.38762283,  0.06400752,  3.451164  ],\n",
       "        [ 0.38762283,  0.06400752,  3.451164  ],\n",
       "        [ 0.38762283,  0.06400752,  3.451164  ],\n",
       "        [ 0.38762283,  0.06400752,  3.451164  ],\n",
       "        [ 0.38762283,  0.06400752,  3.451164  ],\n",
       "        [ 0.38762283,  0.06400752,  3.451164  ],\n",
       "        [ 0.38762283,  0.06400752,  3.451164  ],\n",
       "        [ 0.38762283,  0.06400752,  3.451164  ],\n",
       "        [ 0.38762283,  0.06400752,  3.451164  ],\n",
       "        [ 0.38762283,  0.06400752,  3.451164  ],\n",
       "        [ 0.38762283,  0.06400752,  3.451164  ],\n",
       "        [ 0.38762283,  0.06400752,  3.451164  ],\n",
       "        [ 0.38762283,  0.06400752,  3.451164  ],\n",
       "        [ 0.38762283,  0.06400752,  3.451164  ],\n",
       "        [ 0.38762283,  0.06400752,  3.451164  ],\n",
       "        [ 0.38762283,  0.06400752,  3.451164  ],\n",
       "        [ 0.38762283,  0.06400752,  3.451164  ],\n",
       "        [ 0.38762283,  0.06400752,  3.451164  ],\n",
       "        [ 0.38762283,  0.06400752,  3.451164  ],\n",
       "        [ 0.38762283,  0.06400752,  3.451164  ],\n",
       "        [ 0.38762283,  0.06400752,  3.451164  ],\n",
       "        [ 0.38762283,  0.06400752,  3.451164  ],\n",
       "        [ 0.38762283,  0.06400752,  3.451164  ],\n",
       "        [-0.22212505, -0.01828384,  0.14509726],\n",
       "        [ 0.01062973,  0.11872932,  0.04086277],\n",
       "        [ 0.11604135,  0.0183112 ,  0.0429829 ],\n",
       "        [ 0.11604135,  0.0183112 ,  0.0429829 ],\n",
       "        [ 0.11604135,  0.0183112 ,  0.0429829 ],\n",
       "        [ 0.0883889 ,  0.02670131,  0.00853107],\n",
       "        [ 0.0883889 ,  0.02670131,  0.00853107],\n",
       "        [ 0.0883889 ,  0.02670131,  0.00853107],\n",
       "        [ 0.0883889 ,  0.02670131,  0.00853107],\n",
       "        [ 0.0883889 ,  0.02670131,  0.00853107],\n",
       "        [ 0.0883889 ,  0.02670131,  0.00853107],\n",
       "        [ 0.0883889 ,  0.02670131,  0.00853107],\n",
       "        [ 0.0883889 ,  0.02670131,  0.00853107],\n",
       "        [ 0.0883889 ,  0.02670131,  0.00853107],\n",
       "        [ 0.0883889 ,  0.02670131,  0.00853107],\n",
       "        [ 0.0883889 ,  0.02670131,  0.00853107],\n",
       "        [ 0.0883889 ,  0.02670131,  0.00853107],\n",
       "        [ 0.04547562,  0.00759167,  0.04265264],\n",
       "        [ 0.04547562,  0.00759167,  0.04265264],\n",
       "        [ 0.05591184,  0.02540694,  0.03770946],\n",
       "        [ 0.05591184,  0.02540694,  0.03770946],\n",
       "        [ 0.05591184,  0.02540694,  0.03770946],\n",
       "        [ 0.05591184,  0.02540694,  0.03770946],\n",
       "        [ 0.05232843,  0.01742771,  0.0253982 ],\n",
       "        [ 0.05232843,  0.01742771,  0.0253982 ],\n",
       "        [ 0.05232843,  0.01742771,  0.0253982 ],\n",
       "        [ 0.05232843,  0.01742771,  0.0253982 ],\n",
       "        [ 0.05232843,  0.01742771,  0.0253982 ],\n",
       "        [ 0.05232843,  0.01742771,  0.0253982 ],\n",
       "        [ 0.05232843,  0.01742771,  0.0253982 ],\n",
       "        [ 0.05232843,  0.01742771,  0.0253982 ],\n",
       "        [ 0.05232843,  0.01742771,  0.0253982 ],\n",
       "        [ 0.05232843,  0.01742771,  0.0253982 ],\n",
       "        [ 0.05232843,  0.01742771,  0.0253982 ],\n",
       "        [ 0.05232843,  0.01742771,  0.0253982 ],\n",
       "        [ 0.05232843,  0.01742771,  0.0253982 ],\n",
       "        [ 0.05232843,  0.01742771,  0.0253982 ],\n",
       "        [ 0.02731406,  0.02227309,  0.0315799 ],\n",
       "        [ 0.06385517,  0.03780295,  0.02395874],\n",
       "        [ 0.06385517,  0.03780295,  0.02395874],\n",
       "        [ 0.06385517,  0.03780295,  0.02395874],\n",
       "        [ 0.06385517,  0.03780295,  0.02395874],\n",
       "        [ 0.06385517,  0.03780295,  0.02395874],\n",
       "        [ 0.06385517,  0.03780295,  0.02395874],\n",
       "        [ 0.06385517,  0.03780295,  0.02395874],\n",
       "        [ 0.06385517,  0.03780295,  0.02395874],\n",
       "        [ 0.06385517,  0.03780295,  0.02395874],\n",
       "        [ 0.08042579,  0.02667434,  0.03871711],\n",
       "        [ 0.08042579,  0.02667434,  0.03871711],\n",
       "        [ 0.08042579,  0.02667434,  0.03871711]], dtype=float32),\n",
       " 'init_time': array([[48.29274  , 51.17455  , 53.178345 ],\n",
       "        [48.29274  , 51.17455  , 53.178345 ],\n",
       "        [50.14692  , 52.26462  , 54.558792 ],\n",
       "        [50.14692  , 52.26462  , 54.558792 ],\n",
       "        [50.14692  , 52.26462  , 54.558792 ],\n",
       "        [50.14692  , 52.26462  , 54.558792 ],\n",
       "        [50.14692  , 52.26462  , 54.558792 ],\n",
       "        [50.14692  , 52.26462  , 54.558792 ],\n",
       "        [50.14692  , 52.26462  , 54.558792 ],\n",
       "        [50.14692  , 52.26462  , 54.558792 ],\n",
       "        [50.14692  , 52.26462  , 54.558792 ],\n",
       "        [50.14692  , 52.26462  , 54.558792 ],\n",
       "        [50.14692  , 52.26462  , 54.558792 ],\n",
       "        [50.14692  , 52.26462  , 54.558792 ],\n",
       "        [50.14692  , 52.26462  , 54.558792 ],\n",
       "        [50.14692  , 52.26462  , 54.558792 ],\n",
       "        [50.14692  , 52.26462  , 54.558792 ],\n",
       "        [50.14692  , 52.26462  , 54.558792 ],\n",
       "        [50.14692  , 52.26462  , 54.558792 ],\n",
       "        [50.14692  , 52.26462  , 54.558792 ],\n",
       "        [50.14692  , 52.26462  , 54.558792 ],\n",
       "        [50.14692  , 52.26462  , 54.558792 ],\n",
       "        [50.14692  , 52.26462  , 54.558792 ],\n",
       "        [50.14692  , 52.26462  , 54.558792 ],\n",
       "        [50.14692  , 52.26462  , 54.558792 ],\n",
       "        [50.14692  , 52.26462  , 54.558792 ],\n",
       "        [50.14692  , 52.26462  , 54.558792 ],\n",
       "        [50.14692  , 52.26462  , 54.558792 ],\n",
       "        [50.14692  , 52.26462  , 54.558792 ],\n",
       "        [50.14692  , 52.26462  , 54.558792 ],\n",
       "        [50.14692  , 52.26462  , 54.558792 ],\n",
       "        [50.14692  , 52.26462  , 54.558792 ],\n",
       "        [50.14692  , 52.26462  , 54.558792 ],\n",
       "        [50.14692  , 52.26462  , 54.558792 ],\n",
       "        [50.14692  , 52.26462  , 54.558792 ],\n",
       "        [50.14692  , 52.26462  , 54.558792 ],\n",
       "        [50.14692  , 52.26462  , 54.558792 ],\n",
       "        [50.14692  , 52.26462  , 54.558792 ],\n",
       "        [50.14692  , 52.26462  , 54.558792 ],\n",
       "        [50.14692  , 52.26462  , 54.558792 ],\n",
       "        [50.14692  , 52.26462  , 54.558792 ],\n",
       "        [50.14692  , 52.26462  , 54.558792 ],\n",
       "        [50.14692  , 52.26462  , 54.558792 ],\n",
       "        [50.14692  , 52.26462  , 54.558792 ],\n",
       "        [50.14692  , 52.26462  , 54.558792 ],\n",
       "        [50.14692  , 52.26462  , 54.558792 ],\n",
       "        [50.14692  , 52.26462  , 54.558792 ],\n",
       "        [50.14692  , 52.26462  , 54.558792 ],\n",
       "        [50.14692  , 52.26462  , 54.558792 ],\n",
       "        [50.14692  , 52.26462  , 54.558792 ],\n",
       "        [29.321533 , 19.315771 ,  8.43094  ],\n",
       "        [29.992767 , 19.768229 ,  8.264901 ],\n",
       "        [29.692154 , 19.584845 ,  8.384643 ],\n",
       "        [29.692154 , 19.584845 ,  8.384643 ],\n",
       "        [29.692154 , 19.584845 ,  8.384643 ],\n",
       "        [29.760365 , 19.314503 ,  8.167294 ],\n",
       "        [29.760365 , 19.314503 ,  8.167294 ],\n",
       "        [29.760365 , 19.314503 ,  8.167294 ],\n",
       "        [29.760365 , 19.314503 ,  8.167294 ],\n",
       "        [29.760365 , 19.314503 ,  8.167294 ],\n",
       "        [29.760365 , 19.314503 ,  8.167294 ],\n",
       "        [29.760365 , 19.314503 ,  8.167294 ],\n",
       "        [29.760365 , 19.314503 ,  8.167294 ],\n",
       "        [29.760365 , 19.314503 ,  8.167294 ],\n",
       "        [29.760365 , 19.314503 ,  8.167294 ],\n",
       "        [29.760365 , 19.314503 ,  8.167294 ],\n",
       "        [29.760365 , 19.314503 ,  8.167294 ],\n",
       "        [29.214502 , 19.587208 ,  8.46075  ],\n",
       "        [29.214502 , 19.587208 ,  8.46075  ],\n",
       "        [29.548546 , 19.750175 ,  8.414842 ],\n",
       "        [29.548546 , 19.750175 ,  8.414842 ],\n",
       "        [29.548546 , 19.750175 ,  8.414842 ],\n",
       "        [29.548546 , 19.750175 ,  8.414842 ],\n",
       "        [29.088657 , 19.667156 ,  8.438215 ],\n",
       "        [29.088657 , 19.667156 ,  8.438215 ],\n",
       "        [29.088657 , 19.667156 ,  8.438215 ],\n",
       "        [29.088657 , 19.667156 ,  8.438215 ],\n",
       "        [29.088657 , 19.667156 ,  8.438215 ],\n",
       "        [29.088657 , 19.667156 ,  8.438215 ],\n",
       "        [29.088657 , 19.667156 ,  8.438215 ],\n",
       "        [29.088657 , 19.667156 ,  8.438215 ],\n",
       "        [29.088657 , 19.667156 ,  8.438215 ],\n",
       "        [29.088657 , 19.667156 ,  8.438215 ],\n",
       "        [29.088657 , 19.667156 ,  8.438215 ],\n",
       "        [29.088657 , 19.667156 ,  8.438215 ],\n",
       "        [29.088657 , 19.667156 ,  8.438215 ],\n",
       "        [29.088657 , 19.667156 ,  8.438215 ],\n",
       "        [29.617413 , 19.978838 ,  8.28323  ],\n",
       "        [29.53976  , 20.026634 ,  8.3161545],\n",
       "        [29.53976  , 20.026634 ,  8.3161545],\n",
       "        [29.53976  , 20.026634 ,  8.3161545],\n",
       "        [29.53976  , 20.026634 ,  8.3161545],\n",
       "        [29.53976  , 20.026634 ,  8.3161545],\n",
       "        [29.53976  , 20.026634 ,  8.3161545],\n",
       "        [29.53976  , 20.026634 ,  8.3161545],\n",
       "        [29.53976  , 20.026634 ,  8.3161545],\n",
       "        [29.53976  , 20.026634 ,  8.3161545],\n",
       "        [29.703661 , 20.257048 ,  8.184031 ],\n",
       "        [29.703661 , 20.257048 ,  8.184031 ],\n",
       "        [29.703661 , 20.257048 ,  8.184031 ]], dtype=float32),\n",
       " 'sigma': array([[[0.16317257, 0.29425734, 2.0225482 ],\n",
       "         [1.4809133 , 0.23361678, 1.5901133 ],\n",
       "         [0.3250596 , 0.20308001, 1.8198286 ],\n",
       "         [0.95090175, 2.0213351 , 2.3389518 ],\n",
       "         [1.2855223 , 0.30280256, 1.4059027 ],\n",
       "         [0.12511094, 1.1984042 , 0.61387277]],\n",
       " \n",
       "        [[0.16317257, 0.29425734, 2.0225482 ],\n",
       "         [1.4809133 , 0.23361678, 1.5901133 ],\n",
       "         [0.3250596 , 0.20308001, 1.8198286 ],\n",
       "         [0.95090175, 2.0213351 , 2.3389518 ],\n",
       "         [1.2855223 , 0.30280256, 1.4059027 ],\n",
       "         [0.12511094, 1.1984042 , 0.61387277]],\n",
       " \n",
       "        [[0.13615584, 0.5725974 , 1.5920892 ],\n",
       "         [1.2996092 , 0.1637529 , 0.8243527 ],\n",
       "         [0.3558558 , 0.27438498, 2.1434164 ],\n",
       "         [0.90075904, 2.1739416 , 1.9984081 ],\n",
       "         [1.5697356 , 0.3053922 , 0.88344246],\n",
       "         [0.07789751, 1.083871  , 0.5880495 ]],\n",
       " \n",
       "        ...,\n",
       " \n",
       "        [[0.1896001 , 1.128782  , 3.1050544 ],\n",
       "         [2.3433073 , 5.3587165 , 1.7602707 ],\n",
       "         [4.2450037 , 5.3407645 , 4.7769055 ],\n",
       "         [0.74288595, 4.289238  , 2.7237432 ],\n",
       "         [0.22984178, 0.19806994, 1.7321446 ],\n",
       "         [4.055598  , 6.323922  , 4.821362  ]],\n",
       " \n",
       "        [[0.1896001 , 1.128782  , 3.1050544 ],\n",
       "         [2.3433073 , 5.3587165 , 1.7602707 ],\n",
       "         [4.2450037 , 5.3407645 , 4.7769055 ],\n",
       "         [0.74288595, 4.289238  , 2.7237432 ],\n",
       "         [0.22984178, 0.19806994, 1.7321446 ],\n",
       "         [4.055598  , 6.323922  , 4.821362  ]],\n",
       " \n",
       "        [[0.1896001 , 1.128782  , 3.1050544 ],\n",
       "         [2.3433073 , 5.3587165 , 1.7602707 ],\n",
       "         [4.2450037 , 5.3407645 , 4.7769055 ],\n",
       "         [0.74288595, 4.289238  , 2.7237432 ],\n",
       "         [0.22984178, 0.19806994, 1.7321446 ],\n",
       "         [4.055598  , 6.323922  , 4.821362  ]]], dtype=float32)}"
      ]
     },
     "execution_count": 15,
     "metadata": {},
     "output_type": "execute_result"
    }
   ],
   "source": [
    "posterior_samples_log"
   ]
  }
 ],
 "metadata": {
  "kernelspec": {
   "display_name": "lineagt-env",
   "language": "python",
   "name": "python3"
  },
  "language_info": {
   "codemirror_mode": {
    "name": "ipython",
    "version": 3
   },
   "file_extension": ".py",
   "mimetype": "text/x-python",
   "name": "python",
   "nbconvert_exporter": "python",
   "pygments_lexer": "ipython3",
   "version": "3.8.16"
  }
 },
 "nbformat": 4,
 "nbformat_minor": 2
}
